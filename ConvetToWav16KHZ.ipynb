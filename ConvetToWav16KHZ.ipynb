{
 "cells": [
  {
   "cell_type": "markdown",
   "metadata": {},
   "source": [
    "# IMPORTS"
   ]
  },
  {
   "cell_type": "code",
   "execution_count": 2,
   "metadata": {},
   "outputs": [],
   "source": [
    "import numpy as np\n",
    "from pydub import AudioSegment\n",
    "import random\n",
    "import sys\n",
    "import io\n",
    "import os\n",
    "import glob\n",
    "import IPython\n",
    "%matplotlib inline\n",
    "import os\n",
    "import librosa\n",
    "from pydub import AudioSegment\n",
    "from scipy.io.wavfile import read as read_wav\n",
    "import soundfile as sf"
   ]
  },
  {
   "cell_type": "markdown",
   "metadata": {},
   "source": [
    "# CHANGE FORMAT OF AUDIOS TO WAV AND CHANGE SAMPLE RATE OF THEM TO 16000Hz"
   ]
  },
  {
   "cell_type": "code",
   "execution_count": null,
   "metadata": {},
   "outputs": [],
   "source": [
    "path = \"../MainDataChangeToWAV/\"\n",
    "\n",
    "#Change working directory\n",
    "os.chdir(path)\n",
    "\n",
    "# You do not need the number of files in the folder, just iterate over them directly using:\n",
    "for subdir,dirs,files in os.walk(path):\n",
    "    for file in files:\n",
    "        #spliting the file into the name and the extension\n",
    "        name, ext = os.path.splitext(file)\n",
    "        file_path=subdir+os.sep+file\n",
    "        path_for_wav=subdir+os.sep\n",
    "        if ext != \".wav\":\n",
    "            not_wave_sound = AudioSegment.from_file(file_path)\n",
    "            #rename them using the old name + \".wav\"\n",
    "            not_wave_sound.export(path_for_wav+\"{0}.wav\".format(name), format=\"wav\")\n",
    "            os.remove(file_path)\n",
    "            #CHANGE SAMPLE RATE\n",
    "            y,s=librosa.load(path_for_wav+\"{0}.wav\".format(name),sr=16000)\n",
    "            sf.write(path_for_wav+\"{0}.wav\".format(name), y, s)\n",
    "            sampling_rate, data=read_wav(path_for_wav+\"{0}.wav\".format(name))\n",
    "        elif ext==\".wav\":\n",
    "            y,s=librosa.load(path_for_wav+\"{0}.wav\".format(name),sr=16000)\n",
    "            sf.write(path_for_wav+\"{0}.wav\".format(name), y, s)\n",
    "            sampling_rate, data=read_wav(path_for_wav+\"{0}.wav\".format(name))\n",
    "               "
   ]
  }
 ],
 "metadata": {
  "kernelspec": {
   "display_name": "Python 3",
   "language": "python",
   "name": "python3"
  },
  "language_info": {
   "codemirror_mode": {
    "name": "ipython",
    "version": 3
   },
   "file_extension": ".py",
   "mimetype": "text/x-python",
   "name": "python",
   "nbconvert_exporter": "python",
   "pygments_lexer": "ipython3",
   "version": "3.8.10"
  }
 },
 "nbformat": 4,
 "nbformat_minor": 4
}
